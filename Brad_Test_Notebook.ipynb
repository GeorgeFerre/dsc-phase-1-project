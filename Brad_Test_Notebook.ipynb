{
 "cells": [
  {
   "cell_type": "markdown",
   "metadata": {},
   "source": [
    "## Final Project Submission\n",
    "\n",
    "Please fill out:\n",
    "* Student name: \n",
    "* Student pace: self paced / part time / full time\n",
    "* Scheduled project review date/time: \n",
    "* Instructor name: \n",
    "* Blog post URL:\n"
   ]
  },
  {
   "cell_type": "code",
   "execution_count": 2,
   "metadata": {},
   "outputs": [],
   "source": [
    "# import librarys\n",
    "import pandas as pd\n",
    "import matplotlib.pyplot as plt\n",
    "import numpy as np\n",
    "\n",
    "%matplotlib inline"
   ]
  },
  {
   "cell_type": "code",
   "execution_count": 3,
   "metadata": {},
   "outputs": [
    {
     "name": "stdout",
     "output_type": "stream",
     "text": [
      "bom.movie_gross.csv.gz\n",
      "imdb.name.basics.csv.gz\n",
      "imdb.title.akas.csv.gz\n",
      "imdb.title.basics.csv.gz\n",
      "imdb.title.crew.csv.gz\n",
      "imdb.title.principals.csv.gz\n",
      "imdb.title.ratings.csv.gz\n",
      "rt.movie_info.tsv.gz\n",
      "rt.reviews.tsv.gz\n",
      "tmdb.movies.csv.gz\n",
      "tn.movie_budgets.csv.gz\n"
     ]
    }
   ],
   "source": [
    "! ls zippedData/"
   ]
  },
  {
   "cell_type": "markdown",
   "metadata": {},
   "source": [
    "## Rotten Tomatoes Data"
   ]
  },
  {
   "cell_type": "code",
   "execution_count": 4,
   "metadata": {
    "scrolled": true
   },
   "outputs": [
    {
     "data": {
      "text/html": [
       "<div>\n",
       "<style scoped>\n",
       "    .dataframe tbody tr th:only-of-type {\n",
       "        vertical-align: middle;\n",
       "    }\n",
       "\n",
       "    .dataframe tbody tr th {\n",
       "        vertical-align: top;\n",
       "    }\n",
       "\n",
       "    .dataframe thead th {\n",
       "        text-align: right;\n",
       "    }\n",
       "</style>\n",
       "<table border=\"1\" class=\"dataframe\">\n",
       "  <thead>\n",
       "    <tr style=\"text-align: right;\">\n",
       "      <th></th>\n",
       "      <th>id</th>\n",
       "      <th>synopsis</th>\n",
       "      <th>rating_x</th>\n",
       "      <th>genre</th>\n",
       "      <th>director</th>\n",
       "      <th>writer</th>\n",
       "      <th>theater_date</th>\n",
       "      <th>dvd_date</th>\n",
       "      <th>currency</th>\n",
       "      <th>box_office</th>\n",
       "      <th>runtime</th>\n",
       "      <th>studio</th>\n",
       "      <th>review</th>\n",
       "      <th>rating_y</th>\n",
       "      <th>fresh</th>\n",
       "      <th>critic</th>\n",
       "      <th>top_critic</th>\n",
       "      <th>publisher</th>\n",
       "      <th>date</th>\n",
       "    </tr>\n",
       "  </thead>\n",
       "  <tbody>\n",
       "    <tr>\n",
       "      <th>0</th>\n",
       "      <td>3</td>\n",
       "      <td>New York City, not-too-distant-future: Eric Pa...</td>\n",
       "      <td>R</td>\n",
       "      <td>Drama</td>\n",
       "      <td>David Cronenberg</td>\n",
       "      <td>David Cronenberg|Don DeLillo</td>\n",
       "      <td>Aug 17, 2012</td>\n",
       "      <td>Jan 1, 2013</td>\n",
       "      <td>$</td>\n",
       "      <td>600000.0</td>\n",
       "      <td>108 minutes</td>\n",
       "      <td>Entertainment One</td>\n",
       "      <td>A distinctly gallows take on contemporary fina...</td>\n",
       "      <td>3/5</td>\n",
       "      <td>fresh</td>\n",
       "      <td>PJ Nabarro</td>\n",
       "      <td>0</td>\n",
       "      <td>Patrick Nabarro</td>\n",
       "      <td>November 10, 2018</td>\n",
       "    </tr>\n",
       "  </tbody>\n",
       "</table>\n",
       "</div>"
      ],
      "text/plain": [
       "   id                                           synopsis rating_x  genre  \\\n",
       "0   3  New York City, not-too-distant-future: Eric Pa...        R  Drama   \n",
       "\n",
       "           director                        writer  theater_date     dvd_date  \\\n",
       "0  David Cronenberg  David Cronenberg|Don DeLillo  Aug 17, 2012  Jan 1, 2013   \n",
       "\n",
       "  currency  box_office      runtime             studio  \\\n",
       "0        $    600000.0  108 minutes  Entertainment One   \n",
       "\n",
       "                                              review rating_y  fresh  \\\n",
       "0  A distinctly gallows take on contemporary fina...      3/5  fresh   \n",
       "\n",
       "       critic  top_critic        publisher               date  \n",
       "0  PJ Nabarro           0  Patrick Nabarro  November 10, 2018  "
      ]
     },
     "execution_count": 4,
     "metadata": {},
     "output_type": "execute_result"
    }
   ],
   "source": [
    "#reading rt movie and reviews in notebook\n",
    "rt_movie_info = pd.read_csv('zippedData/rt.movie_info.tsv.gz', sep='\\t')\n",
    "rt_reviews = pd.read_csv('zippedData/rt.reviews.tsv.gz', sep='\\t', encoding='iso8859_1')\n",
    "\n",
    "#merge the to dataframes\n",
    "rt_df = pd.merge(rt_movie_info, rt_reviews, on = 'id')\n",
    "\n",
    "#droping the na's\n",
    "rt_movie_info = rt_movie_info.dropna()\n",
    "rt_df = rt_df.dropna()\n",
    "\n",
    "#change the box_office in floats\n",
    "rt_movie_info['box_office'] = rt_movie_info['box_office'].str.replace(',', '').astype('float')\n",
    "rt_df['box_office'] =  rt_df['box_office'].str.replace(',', '').astype('float')\n",
    "\n",
    "#spliting the values of genre in rows\n",
    "rt_movie_info['genre'] = rt_movie_info['genre'].str.split('|')\n",
    "rt_movie_info = rt_movie_info.explode('genre')\n",
    "\n",
    "rt_df['genre'] = rt_df['genre'].str.split('|')\n",
    "rt_df = rt_df.explode('genre')\n",
    "\n",
    "rt_df.head(1)"
   ]
  },
  {
   "cell_type": "code",
   "execution_count": 5,
   "metadata": {},
   "outputs": [
    {
     "data": {
      "text/plain": [
       "\"A comic series of short vignettes build on one another to create a cumulative effect, as the characters discuss things as diverse as caffeine popsicles, Paris in the '20s, and the use of nicotine as an insecticide--all the while sitting around sipping coffee and smoking cigarettes. As director Jim Jarmusch delves into the normal pace of our world from an extraordinary angle, he shows just how absorbing the obsessions, joys and addictions of life can be, if truly observed.\""
      ]
     },
     "execution_count": 5,
     "metadata": {},
     "output_type": "execute_result"
    }
   ],
   "source": [
    "rt_movie_info['synopsis'].values[10]"
   ]
  },
  {
   "cell_type": "code",
   "execution_count": 6,
   "metadata": {},
   "outputs": [
    {
     "data": {
      "text/plain": [
       "Text(0.5, 0, 'Genre Produced Count')"
      ]
     },
     "execution_count": 6,
     "metadata": {},
     "output_type": "execute_result"
    },
    {
     "data": {
      "image/png": "[encoded data removed]",
      "text/plain": [
       "<Figure size 720x720 with 2 Axes>"
      ]
     },
     "metadata": {
      "needs_background": "light"
     },
     "output_type": "display_data"
    }
   ],
   "source": [
    "fig, (ax1, ax2) = plt.subplots(2,1, figsize=(10, 10))\n",
    "x1 = list(rt_movie_info.groupby(['genre']).sum()['box_office'].keys())\n",
    "y1 = list(rt_movie_info.groupby(['genre']).sum()['box_office'].values)\n",
    "\n",
    "x2 = list(rt_movie_info['genre'].value_counts().head(10).keys())\n",
    "y2 = list(rt_movie_info['genre'].value_counts().head(10).values)\n",
    "\n",
    "ax1.barh(x1,y1)\n",
    "ax1.set_title('Genre Box Office Gross')\n",
    "ax1.set_xlabel('Box Office Gross(Billions)')\n",
    "\n",
    "ax2.barh(x2,y2)\n",
    "ax2.set_title('Top 10 Popular Genres Produced')\n",
    "ax2.set_xlabel('Genre Produced Count')\n",
    "\n",
    "#plt.draw()\n",
    "\n",
    "#ax1.set_xticklabels(ax1.get_xticklabels(), rotation=90, ha='right')\n",
    "#ax2.set_xticklabels(ax2.get_xticklabels(), rotation=90, ha='right');"
   ]
  },
  {
   "cell_type": "markdown",
   "metadata": {},
   "source": [
    "## The Movies DB Data"
   ]
  },
  {
   "cell_type": "code",
   "execution_count": 7,
   "metadata": {},
   "outputs": [],
   "source": [
    "tmdb_movies = pd.read_csv('zippedData/tmdb.movies.csv.gz')\n",
    "\n",
    "#clean punctuation from row values\n",
    "tmdb_movies['genre_ids'] = tmdb_movies['genre_ids'].str.replace('[^\\w\\s]','')\n",
    "\n",
    "#change value in list of values\n",
    "tmdb_movies['genre_ids'] = tmdb_movies['genre_ids'].str.split(' ')"
   ]
  },
  {
   "cell_type": "code",
   "execution_count": 8,
   "metadata": {},
   "outputs": [],
   "source": [
    "#data from 'https://www.themoviedb.org/talk/5daf6eb0ae36680011d7e6ee'\n",
    "tmdb_genre_ids = [('Action', '28'), ('Adventure', '12'), ('Animation', '16'), ('Comedy', '35'),\n",
    "('Crime', '80'), ('Documentary', '99'), ('Drama', '18'), ('Family', '10751'),\n",
    "('Fantasy', '14'), ('History', '36'), ('Horror', '27'), ('Music', '10402'),\n",
    "('Mystery', '9648'), ('Romance', '10749'), ('Science Fiction', '878'),\n",
    "('TV Movie', '10770'), ('Thriller', '53'), ('War', '10752'), ('Western', '37')]\n",
    "\n",
    "def id_rename(id_value):\n",
    "    new_id_name = []\n",
    "    for id_num in id_value:\n",
    "        for id_pair in tmdb_genre_ids:\n",
    "            if id_num == id_pair[1]:\n",
    "                new_id_name.append(id_pair[0])\n",
    "    return new_id_name\n",
    "\n",
    "new_id_list = []\n",
    "\n",
    "for ids in tmdb_movies['genre_ids']:\n",
    "    new_id_list.append(id_rename(ids))\n",
    "    \n",
    "tmdb_movies['genre2'] = new_id_list"
   ]
  },
  {
   "cell_type": "code",
   "execution_count": 9,
   "metadata": {},
   "outputs": [
    {
     "data": {
      "text/html": [
       "<div>\n",
       "<style scoped>\n",
       "    .dataframe tbody tr th:only-of-type {\n",
       "        vertical-align: middle;\n",
       "    }\n",
       "\n",
       "    .dataframe tbody tr th {\n",
       "        vertical-align: top;\n",
       "    }\n",
       "\n",
       "    .dataframe thead th {\n",
       "        text-align: right;\n",
       "    }\n",
       "</style>\n",
       "<table border=\"1\" class=\"dataframe\">\n",
       "  <thead>\n",
       "    <tr style=\"text-align: right;\">\n",
       "      <th></th>\n",
       "      <th>Unnamed: 0</th>\n",
       "      <th>genre_ids</th>\n",
       "      <th>id</th>\n",
       "      <th>original_language</th>\n",
       "      <th>original_title</th>\n",
       "      <th>popularity</th>\n",
       "      <th>release_date</th>\n",
       "      <th>title</th>\n",
       "      <th>vote_average</th>\n",
       "      <th>vote_count</th>\n",
       "      <th>genre2</th>\n",
       "    </tr>\n",
       "  </thead>\n",
       "  <tbody>\n",
       "    <tr>\n",
       "      <th>0</th>\n",
       "      <td>0</td>\n",
       "      <td>[12, 14, 10751]</td>\n",
       "      <td>12444</td>\n",
       "      <td>en</td>\n",
       "      <td>Harry Potter and the Deathly Hallows: Part 1</td>\n",
       "      <td>33.533</td>\n",
       "      <td>2010-11-19</td>\n",
       "      <td>Harry Potter and the Deathly Hallows: Part 1</td>\n",
       "      <td>7.7</td>\n",
       "      <td>10788</td>\n",
       "      <td>[Adventure, Fantasy, Family]</td>\n",
       "    </tr>\n",
       "    <tr>\n",
       "      <th>1</th>\n",
       "      <td>1</td>\n",
       "      <td>[14, 12, 16, 10751]</td>\n",
       "      <td>10191</td>\n",
       "      <td>en</td>\n",
       "      <td>How to Train Your Dragon</td>\n",
       "      <td>28.734</td>\n",
       "      <td>2010-03-26</td>\n",
       "      <td>How to Train Your Dragon</td>\n",
       "      <td>7.7</td>\n",
       "      <td>7610</td>\n",
       "      <td>[Fantasy, Adventure, Animation, Family]</td>\n",
       "    </tr>\n",
       "    <tr>\n",
       "      <th>2</th>\n",
       "      <td>2</td>\n",
       "      <td>[12, 28, 878]</td>\n",
       "      <td>10138</td>\n",
       "      <td>en</td>\n",
       "      <td>Iron Man 2</td>\n",
       "      <td>28.515</td>\n",
       "      <td>2010-05-07</td>\n",
       "      <td>Iron Man 2</td>\n",
       "      <td>6.8</td>\n",
       "      <td>12368</td>\n",
       "      <td>[Adventure, Action, Science Fiction]</td>\n",
       "    </tr>\n",
       "    <tr>\n",
       "      <th>3</th>\n",
       "      <td>3</td>\n",
       "      <td>[16, 35, 10751]</td>\n",
       "      <td>862</td>\n",
       "      <td>en</td>\n",
       "      <td>Toy Story</td>\n",
       "      <td>28.005</td>\n",
       "      <td>1995-11-22</td>\n",
       "      <td>Toy Story</td>\n",
       "      <td>7.9</td>\n",
       "      <td>10174</td>\n",
       "      <td>[Animation, Comedy, Family]</td>\n",
       "    </tr>\n",
       "    <tr>\n",
       "      <th>4</th>\n",
       "      <td>4</td>\n",
       "      <td>[28, 878, 12]</td>\n",
       "      <td>27205</td>\n",
       "      <td>en</td>\n",
       "      <td>Inception</td>\n",
       "      <td>27.920</td>\n",
       "      <td>2010-07-16</td>\n",
       "      <td>Inception</td>\n",
       "      <td>8.3</td>\n",
       "      <td>22186</td>\n",
       "      <td>[Action, Science Fiction, Adventure]</td>\n",
       "    </tr>\n",
       "    <tr>\n",
       "      <th>...</th>\n",
       "      <td>...</td>\n",
       "      <td>...</td>\n",
       "      <td>...</td>\n",
       "      <td>...</td>\n",
       "      <td>...</td>\n",
       "      <td>...</td>\n",
       "      <td>...</td>\n",
       "      <td>...</td>\n",
       "      <td>...</td>\n",
       "      <td>...</td>\n",
       "      <td>...</td>\n",
       "    </tr>\n",
       "    <tr>\n",
       "      <th>26512</th>\n",
       "      <td>26512</td>\n",
       "      <td>[27, 18]</td>\n",
       "      <td>488143</td>\n",
       "      <td>en</td>\n",
       "      <td>Laboratory Conditions</td>\n",
       "      <td>0.600</td>\n",
       "      <td>2018-10-13</td>\n",
       "      <td>Laboratory Conditions</td>\n",
       "      <td>0.0</td>\n",
       "      <td>1</td>\n",
       "      <td>[Horror, Drama]</td>\n",
       "    </tr>\n",
       "    <tr>\n",
       "      <th>26513</th>\n",
       "      <td>26513</td>\n",
       "      <td>[18, 53]</td>\n",
       "      <td>485975</td>\n",
       "      <td>en</td>\n",
       "      <td>_EXHIBIT_84xxx_</td>\n",
       "      <td>0.600</td>\n",
       "      <td>2018-05-01</td>\n",
       "      <td>_EXHIBIT_84xxx_</td>\n",
       "      <td>0.0</td>\n",
       "      <td>1</td>\n",
       "      <td>[Drama, Thriller]</td>\n",
       "    </tr>\n",
       "    <tr>\n",
       "      <th>26514</th>\n",
       "      <td>26514</td>\n",
       "      <td>[14, 28, 12]</td>\n",
       "      <td>381231</td>\n",
       "      <td>en</td>\n",
       "      <td>The Last One</td>\n",
       "      <td>0.600</td>\n",
       "      <td>2018-10-01</td>\n",
       "      <td>The Last One</td>\n",
       "      <td>0.0</td>\n",
       "      <td>1</td>\n",
       "      <td>[Fantasy, Action, Adventure]</td>\n",
       "    </tr>\n",
       "    <tr>\n",
       "      <th>26515</th>\n",
       "      <td>26515</td>\n",
       "      <td>[10751, 12, 28]</td>\n",
       "      <td>366854</td>\n",
       "      <td>en</td>\n",
       "      <td>Trailer Made</td>\n",
       "      <td>0.600</td>\n",
       "      <td>2018-06-22</td>\n",
       "      <td>Trailer Made</td>\n",
       "      <td>0.0</td>\n",
       "      <td>1</td>\n",
       "      <td>[Family, Adventure, Action]</td>\n",
       "    </tr>\n",
       "    <tr>\n",
       "      <th>26516</th>\n",
       "      <td>26516</td>\n",
       "      <td>[53, 27]</td>\n",
       "      <td>309885</td>\n",
       "      <td>en</td>\n",
       "      <td>The Church</td>\n",
       "      <td>0.600</td>\n",
       "      <td>2018-10-05</td>\n",
       "      <td>The Church</td>\n",
       "      <td>0.0</td>\n",
       "      <td>1</td>\n",
       "      <td>[Thriller, Horror]</td>\n",
       "    </tr>\n",
       "  </tbody>\n",
       "</table>\n",
       "<p>26517 rows × 11 columns</p>\n",
       "</div>"
      ],
      "text/plain": [
       "       Unnamed: 0            genre_ids      id original_language  \\\n",
       "0               0      [12, 14, 10751]   12444                en   \n",
       "1               1  [14, 12, 16, 10751]   10191                en   \n",
       "2               2        [12, 28, 878]   10138                en   \n",
       "3               3      [16, 35, 10751]     862                en   \n",
       "4               4        [28, 878, 12]   27205                en   \n",
       "...           ...                  ...     ...               ...   \n",
       "26512       26512             [27, 18]  488143                en   \n",
       "26513       26513             [18, 53]  485975                en   \n",
       "26514       26514         [14, 28, 12]  381231                en   \n",
       "26515       26515      [10751, 12, 28]  366854                en   \n",
       "26516       26516             [53, 27]  309885                en   \n",
       "\n",
       "                                     original_title  popularity release_date  \\\n",
       "0      Harry Potter and the Deathly Hallows: Part 1      33.533   2010-11-19   \n",
       "1                          How to Train Your Dragon      28.734   2010-03-26   \n",
       "2                                        Iron Man 2      28.515   2010-05-07   \n",
       "3                                         Toy Story      28.005   1995-11-22   \n",
       "4                                         Inception      27.920   2010-07-16   \n",
       "...                                             ...         ...          ...   \n",
       "26512                         Laboratory Conditions       0.600   2018-10-13   \n",
       "26513                               _EXHIBIT_84xxx_       0.600   2018-05-01   \n",
       "26514                                  The Last One       0.600   2018-10-01   \n",
       "26515                                  Trailer Made       0.600   2018-06-22   \n",
       "26516                                    The Church       0.600   2018-10-05   \n",
       "\n",
       "                                              title  vote_average  vote_count  \\\n",
       "0      Harry Potter and the Deathly Hallows: Part 1           7.7       10788   \n",
       "1                          How to Train Your Dragon           7.7        7610   \n",
       "2                                        Iron Man 2           6.8       12368   \n",
       "3                                         Toy Story           7.9       10174   \n",
       "4                                         Inception           8.3       22186   \n",
       "...                                             ...           ...         ...   \n",
       "26512                         Laboratory Conditions           0.0           1   \n",
       "26513                               _EXHIBIT_84xxx_           0.0           1   \n",
       "26514                                  The Last One           0.0           1   \n",
       "26515                                  Trailer Made           0.0           1   \n",
       "26516                                    The Church           0.0           1   \n",
       "\n",
       "                                        genre2  \n",
       "0                 [Adventure, Fantasy, Family]  \n",
       "1      [Fantasy, Adventure, Animation, Family]  \n",
       "2         [Adventure, Action, Science Fiction]  \n",
       "3                  [Animation, Comedy, Family]  \n",
       "4         [Action, Science Fiction, Adventure]  \n",
       "...                                        ...  \n",
       "26512                          [Horror, Drama]  \n",
       "26513                        [Drama, Thriller]  \n",
       "26514             [Fantasy, Action, Adventure]  \n",
       "26515              [Family, Adventure, Action]  \n",
       "26516                       [Thriller, Horror]  \n",
       "\n",
       "[26517 rows x 11 columns]"
      ]
     },
     "execution_count": 9,
     "metadata": {},
     "output_type": "execute_result"
    }
   ],
   "source": [
    "tmdb_movies"
   ]
  },
  {
   "cell_type": "markdown",
   "metadata": {},
   "source": [
    "## The Numbers Data"
   ]
  },
  {
   "cell_type": "code",
   "execution_count": 10,
   "metadata": {},
   "outputs": [
    {
     "data": {
      "text/html": [
       "<div>\n",
       "<style scoped>\n",
       "    .dataframe tbody tr th:only-of-type {\n",
       "        vertical-align: middle;\n",
       "    }\n",
       "\n",
       "    .dataframe tbody tr th {\n",
       "        vertical-align: top;\n",
       "    }\n",
       "\n",
       "    .dataframe thead th {\n",
       "        text-align: right;\n",
       "    }\n",
       "</style>\n",
       "<table border=\"1\" class=\"dataframe\">\n",
       "  <thead>\n",
       "    <tr style=\"text-align: right;\">\n",
       "      <th></th>\n",
       "      <th>id</th>\n",
       "      <th>release_date</th>\n",
       "      <th>movie</th>\n",
       "      <th>production_budget</th>\n",
       "      <th>domestic_gross</th>\n",
       "      <th>worldwide_gross</th>\n",
       "    </tr>\n",
       "  </thead>\n",
       "  <tbody>\n",
       "    <tr>\n",
       "      <th>0</th>\n",
       "      <td>1</td>\n",
       "      <td>Dec 18, 2009</td>\n",
       "      <td>Avatar</td>\n",
       "      <td>425000000.0</td>\n",
       "      <td>760507625.0</td>\n",
       "      <td>2.776345e+09</td>\n",
       "    </tr>\n",
       "  </tbody>\n",
       "</table>\n",
       "</div>"
      ],
      "text/plain": [
       "   id  release_date   movie  production_budget  domestic_gross  \\\n",
       "0   1  Dec 18, 2009  Avatar        425000000.0     760507625.0   \n",
       "\n",
       "   worldwide_gross  \n",
       "0     2.776345e+09  "
      ]
     },
     "execution_count": 10,
     "metadata": {},
     "output_type": "execute_result"
    }
   ],
   "source": [
    "tn_movie_budgets = pd.read_csv('zippedData/tn.movie_budgets.csv.gz')\n",
    "\n",
    "#changing the str in to int\n",
    "tn_movie_budgets['production_budget'] = tn_movie_budgets['production_budget'].str.replace('[\\$,]', '').astype('float')\n",
    "tn_movie_budgets['domestic_gross'] = tn_movie_budgets['domestic_gross'].str.replace('[\\$,]', '').astype('float')\n",
    "tn_movie_budgets['worldwide_gross'] = tn_movie_budgets['worldwide_gross'].str.replace('[\\$,]', '').astype('float')\n",
    "\n",
    "#droping the 0 values\n",
    "drop_domestic_gross = tn_movie_budgets.index[tn_movie_budgets['domestic_gross'] == 0].tolist()\n",
    "drop_worldwide_gross = tn_movie_budgets.index[tn_movie_budgets['worldwide_gross'] == 0].tolist()\n",
    "drop_both = drop_domestic_gross + drop_worldwide_gross\n",
    "tn_movie_budgets = tn_movie_budgets.drop(tn_movie_budgets.index[drop_both])\n",
    "\n",
    "tn_movie_budgets.head(1)"
   ]
  },
  {
   "cell_type": "markdown",
   "metadata": {},
   "source": [
    "## Merged: The Movies DB Data with The Numbers Data"
   ]
  },
  {
   "cell_type": "code",
   "execution_count": 11,
   "metadata": {},
   "outputs": [],
   "source": [
    "tmdb_tn_df = pd.merge(tn_movie_budgets, tmdb_movies, left_on = 'movie', right_on = 'original_title')"
   ]
  },
  {
   "cell_type": "code",
   "execution_count": 12,
   "metadata": {},
   "outputs": [],
   "source": [
    "\n",
    "tmdb_tn_df['genre3'] = tmdb_tn_df.genre2.apply(', '.join)"
   ]
  },
  {
   "cell_type": "code",
   "execution_count": 13,
   "metadata": {},
   "outputs": [
    {
     "data": {
      "text/html": [
       "<div>\n",
       "<style scoped>\n",
       "    .dataframe tbody tr th:only-of-type {\n",
       "        vertical-align: middle;\n",
       "    }\n",
       "\n",
       "    .dataframe tbody tr th {\n",
       "        vertical-align: top;\n",
       "    }\n",
       "\n",
       "    .dataframe thead th {\n",
       "        text-align: right;\n",
       "    }\n",
       "</style>\n",
       "<table border=\"1\" class=\"dataframe\">\n",
       "  <thead>\n",
       "    <tr style=\"text-align: right;\">\n",
       "      <th></th>\n",
       "      <th>id_x</th>\n",
       "      <th>release_date_x</th>\n",
       "      <th>movie</th>\n",
       "      <th>production_budget</th>\n",
       "      <th>domestic_gross</th>\n",
       "      <th>worldwide_gross</th>\n",
       "      <th>Unnamed: 0</th>\n",
       "      <th>genre_ids</th>\n",
       "      <th>id_y</th>\n",
       "      <th>original_language</th>\n",
       "      <th>original_title</th>\n",
       "      <th>popularity</th>\n",
       "      <th>release_date_y</th>\n",
       "      <th>title</th>\n",
       "      <th>vote_average</th>\n",
       "      <th>vote_count</th>\n",
       "      <th>genre2</th>\n",
       "      <th>genre3</th>\n",
       "    </tr>\n",
       "  </thead>\n",
       "  <tbody>\n",
       "    <tr>\n",
       "      <th>0</th>\n",
       "      <td>1</td>\n",
       "      <td>Dec 18, 2009</td>\n",
       "      <td>Avatar</td>\n",
       "      <td>425000000.0</td>\n",
       "      <td>760507625.0</td>\n",
       "      <td>2.776345e+09</td>\n",
       "      <td>6</td>\n",
       "      <td>[28, 12, 14, 878]</td>\n",
       "      <td>19995</td>\n",
       "      <td>en</td>\n",
       "      <td>Avatar</td>\n",
       "      <td>26.526</td>\n",
       "      <td>2009-12-18</td>\n",
       "      <td>Avatar</td>\n",
       "      <td>7.4</td>\n",
       "      <td>18676</td>\n",
       "      <td>[Action, Adventure, Fantasy, Science Fiction]</td>\n",
       "      <td>Action, Adventure, Fantasy, Science Fiction</td>\n",
       "    </tr>\n",
       "  </tbody>\n",
       "</table>\n",
       "</div>"
      ],
      "text/plain": [
       "   id_x release_date_x   movie  production_budget  domestic_gross  \\\n",
       "0     1   Dec 18, 2009  Avatar        425000000.0     760507625.0   \n",
       "\n",
       "   worldwide_gross  Unnamed: 0          genre_ids   id_y original_language  \\\n",
       "0     2.776345e+09           6  [28, 12, 14, 878]  19995                en   \n",
       "\n",
       "  original_title  popularity release_date_y   title  vote_average  vote_count  \\\n",
       "0         Avatar      26.526     2009-12-18  Avatar           7.4       18676   \n",
       "\n",
       "                                          genre2  \\\n",
       "0  [Action, Adventure, Fantasy, Science Fiction]   \n",
       "\n",
       "                                        genre3  \n",
       "0  Action, Adventure, Fantasy, Science Fiction  "
      ]
     },
     "execution_count": 13,
     "metadata": {},
     "output_type": "execute_result"
    }
   ],
   "source": [
    "tmdb_tn_df.head(1)"
   ]
  },
  {
   "cell_type": "markdown",
   "metadata": {},
   "source": [
    "# Top 10 Genre Combos"
   ]
  },
  {
   "cell_type": "code",
   "execution_count": 18,
   "metadata": {},
   "outputs": [
    {
     "data": {
      "image/png": "[encoded data removed]",
      "text/plain": [
       "<Figure size 720x576 with 1 Axes>"
      ]
     },
     "metadata": {
      "needs_background": "light"
     },
     "output_type": "display_data"
    }
   ],
   "source": [
    "fig, ax = plt.subplots(1,1, figsize=(10, 8))\n",
    "x = list(tmdb_tn_df.groupby(['genre3']).mean()['worldwide_gross'].sort_values(ascending=False).head(10).keys())\n",
    "y = list(tmdb_tn_df.groupby(['genre3']).mean()['worldwide_gross'].sort_values(ascending=False).head(10).values)\n",
    "\n",
    "ax.barh(x,y);\n",
    "ax.set_title('Top 10 Worldwide Genre Gross')\n",
    "ax.set_xlabel('Worldwide Gross (Billons)');"
   ]
  },
  {
   "cell_type": "markdown",
   "metadata": {},
   "source": [
    "# Top 10 Gerne Single"
   ]
  },
  {
   "cell_type": "code",
   "execution_count": 15,
   "metadata": {},
   "outputs": [],
   "source": [
    "tmdb_tn_df_single = tmdb_tn_df"
   ]
  },
  {
   "cell_type": "code",
   "execution_count": 19,
   "metadata": {},
   "outputs": [
    {
     "data": {
      "text/html": [
       "<div>\n",
       "<style scoped>\n",
       "    .dataframe tbody tr th:only-of-type {\n",
       "        vertical-align: middle;\n",
       "    }\n",
       "\n",
       "    .dataframe tbody tr th {\n",
       "        vertical-align: top;\n",
       "    }\n",
       "\n",
       "    .dataframe thead th {\n",
       "        text-align: right;\n",
       "    }\n",
       "</style>\n",
       "<table border=\"1\" class=\"dataframe\">\n",
       "  <thead>\n",
       "    <tr style=\"text-align: right;\">\n",
       "      <th></th>\n",
       "      <th>id_x</th>\n",
       "      <th>release_date_x</th>\n",
       "      <th>movie</th>\n",
       "      <th>production_budget</th>\n",
       "      <th>domestic_gross</th>\n",
       "      <th>worldwide_gross</th>\n",
       "      <th>Unnamed: 0</th>\n",
       "      <th>genre_ids</th>\n",
       "      <th>id_y</th>\n",
       "      <th>original_language</th>\n",
       "      <th>original_title</th>\n",
       "      <th>popularity</th>\n",
       "      <th>release_date_y</th>\n",
       "      <th>title</th>\n",
       "      <th>vote_average</th>\n",
       "      <th>vote_count</th>\n",
       "      <th>genre2</th>\n",
       "      <th>genre3</th>\n",
       "    </tr>\n",
       "  </thead>\n",
       "  <tbody>\n",
       "    <tr>\n",
       "      <th>0</th>\n",
       "      <td>1</td>\n",
       "      <td>Dec 18, 2009</td>\n",
       "      <td>Avatar</td>\n",
       "      <td>425000000.0</td>\n",
       "      <td>760507625.0</td>\n",
       "      <td>2.776345e+09</td>\n",
       "      <td>6</td>\n",
       "      <td>[28, 12, 14, 878]</td>\n",
       "      <td>19995</td>\n",
       "      <td>en</td>\n",
       "      <td>Avatar</td>\n",
       "      <td>26.526</td>\n",
       "      <td>2009-12-18</td>\n",
       "      <td>Avatar</td>\n",
       "      <td>7.4</td>\n",
       "      <td>18676</td>\n",
       "      <td>[Action, Adventure, Fantasy, Science Fiction]</td>\n",
       "      <td>Action, Adventure, Fantasy, Science Fiction</td>\n",
       "    </tr>\n",
       "  </tbody>\n",
       "</table>\n",
       "</div>"
      ],
      "text/plain": [
       "   id_x release_date_x   movie  production_budget  domestic_gross  \\\n",
       "0     1   Dec 18, 2009  Avatar        425000000.0     760507625.0   \n",
       "\n",
       "   worldwide_gross  Unnamed: 0          genre_ids   id_y original_language  \\\n",
       "0     2.776345e+09           6  [28, 12, 14, 878]  19995                en   \n",
       "\n",
       "  original_title  popularity release_date_y   title  vote_average  vote_count  \\\n",
       "0         Avatar      26.526     2009-12-18  Avatar           7.4       18676   \n",
       "\n",
       "                                          genre2  \\\n",
       "0  [Action, Adventure, Fantasy, Science Fiction]   \n",
       "\n",
       "                                        genre3  \n",
       "0  Action, Adventure, Fantasy, Science Fiction  "
      ]
     },
     "execution_count": 19,
     "metadata": {},
     "output_type": "execute_result"
    }
   ],
   "source": [
    "tmdb_tn_df_single.head(1)"
   ]
  },
  {
   "cell_type": "code",
   "execution_count": 32,
   "metadata": {},
   "outputs": [],
   "source": [
    "tmdb_tn_df_single['genre_single'] = tmdb_tn_df_single['genre3'].str.split(',')\n",
    "tmdb_tn_df_single = tmdb_tn_df_single.explode('genre_single')\n",
    "tmdb_tn_df_single['genre_single'] = tmdb_tn_df_single['genre_single'].str.strip()"
   ]
  },
  {
   "cell_type": "code",
   "execution_count": 33,
   "metadata": {},
   "outputs": [
    {
     "data": {
      "text/html": [
       "<div>\n",
       "<style scoped>\n",
       "    .dataframe tbody tr th:only-of-type {\n",
       "        vertical-align: middle;\n",
       "    }\n",
       "\n",
       "    .dataframe tbody tr th {\n",
       "        vertical-align: top;\n",
       "    }\n",
       "\n",
       "    .dataframe thead th {\n",
       "        text-align: right;\n",
       "    }\n",
       "</style>\n",
       "<table border=\"1\" class=\"dataframe\">\n",
       "  <thead>\n",
       "    <tr style=\"text-align: right;\">\n",
       "      <th></th>\n",
       "      <th>id_x</th>\n",
       "      <th>release_date_x</th>\n",
       "      <th>movie</th>\n",
       "      <th>production_budget</th>\n",
       "      <th>domestic_gross</th>\n",
       "      <th>worldwide_gross</th>\n",
       "      <th>Unnamed: 0</th>\n",
       "      <th>genre_ids</th>\n",
       "      <th>id_y</th>\n",
       "      <th>original_language</th>\n",
       "      <th>original_title</th>\n",
       "      <th>popularity</th>\n",
       "      <th>release_date_y</th>\n",
       "      <th>title</th>\n",
       "      <th>vote_average</th>\n",
       "      <th>vote_count</th>\n",
       "      <th>genre2</th>\n",
       "      <th>genre3</th>\n",
       "      <th>genre_single</th>\n",
       "    </tr>\n",
       "  </thead>\n",
       "  <tbody>\n",
       "    <tr>\n",
       "      <th>0</th>\n",
       "      <td>1</td>\n",
       "      <td>Dec 18, 2009</td>\n",
       "      <td>Avatar</td>\n",
       "      <td>425000000.0</td>\n",
       "      <td>760507625.0</td>\n",
       "      <td>2.776345e+09</td>\n",
       "      <td>6</td>\n",
       "      <td>[28, 12, 14, 878]</td>\n",
       "      <td>19995</td>\n",
       "      <td>en</td>\n",
       "      <td>Avatar</td>\n",
       "      <td>26.526</td>\n",
       "      <td>2009-12-18</td>\n",
       "      <td>Avatar</td>\n",
       "      <td>7.4</td>\n",
       "      <td>18676</td>\n",
       "      <td>[Action, Adventure, Fantasy, Science Fiction]</td>\n",
       "      <td>Action, Adventure, Fantasy, Science Fiction</td>\n",
       "      <td>Action</td>\n",
       "    </tr>\n",
       "  </tbody>\n",
       "</table>\n",
       "</div>"
      ],
      "text/plain": [
       "   id_x release_date_x   movie  production_budget  domestic_gross  \\\n",
       "0     1   Dec 18, 2009  Avatar        425000000.0     760507625.0   \n",
       "\n",
       "   worldwide_gross  Unnamed: 0          genre_ids   id_y original_language  \\\n",
       "0     2.776345e+09           6  [28, 12, 14, 878]  19995                en   \n",
       "\n",
       "  original_title  popularity release_date_y   title  vote_average  vote_count  \\\n",
       "0         Avatar      26.526     2009-12-18  Avatar           7.4       18676   \n",
       "\n",
       "                                          genre2  \\\n",
       "0  [Action, Adventure, Fantasy, Science Fiction]   \n",
       "\n",
       "                                        genre3 genre_single  \n",
       "0  Action, Adventure, Fantasy, Science Fiction       Action  "
      ]
     },
     "execution_count": 33,
     "metadata": {},
     "output_type": "execute_result"
    }
   ],
   "source": [
    "tmdb_tn_df_single.head(1)"
   ]
  },
  {
   "cell_type": "code",
   "execution_count": 45,
   "metadata": {},
   "outputs": [
    {
     "data": {
      "image/png": "[encoded data removed]",
      "text/plain": [
       "<Figure size 720x720 with 2 Axes>"
      ]
     },
     "metadata": {
      "needs_background": "light"
     },
     "output_type": "display_data"
    }
   ],
   "source": [
    "fig, [ax1,ax2] = plt.subplots(2,1, figsize=(10, 10))\n",
    "x1 = list(tmdb_tn_df_single.groupby(['genre_single']).mean()['worldwide_gross'].sort_values(ascending=False).head(10).keys())\n",
    "y1 = list(tmdb_tn_df_single.groupby(['genre_single']).mean()['worldwide_gross'].sort_values(ascending=False).head(10).values)\n",
    "\n",
    "x2 = list(tmdb_tn_df_single.groupby(['genre_single']).mean()['production_budget'].sort_values(ascending=False).head(10).keys())\n",
    "y2 = list(tmdb_tn_df_single.groupby(['genre_single']).mean()['production_budget'].sort_values(ascending=False).head(10).values)\n",
    "\n",
    "fig.suptitle('Production Budgets vs Worldwide Genre Gross', fontsize=12)\n",
    "\n",
    "ax1.barh(x1,y1);\n",
    "ax1.set_title('Top 10 Worldwide Genre Gross')\n",
    "ax1.set_xlabel('Worldwide Gross (Billons)')\n",
    "\n",
    "ax2.barh(x2,y2);\n",
    "ax2.set_title('Top 10 Production Genre Budget')\n",
    "ax2.set_xlabel('Production Genre Budget (Billons)');"
   ]
  },
  {
   "cell_type": "code",
   "execution_count": null,
   "metadata": {},
   "outputs": [],
   "source": []
  }
 ],
 "metadata": {
  "kernelspec": {
   "display_name": "Python 3",
   "language": "python",
   "name": "python3"
  },
  "language_info": {
   "codemirror_mode": {
    "name": "ipython",
    "version": 3
   },
   "file_extension": ".py",
   "mimetype": "text/x-python",
   "name": "python",
   "nbconvert_exporter": "python",
   "pygments_lexer": "ipython3",
   "version": "3.8.5"
  }
 },
 "nbformat": 4,
 "nbformat_minor": 2
}
